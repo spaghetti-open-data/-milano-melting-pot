{
 "cells": [
  {
   "cell_type": "markdown",
   "metadata": {},
   "source": [
    "# Meltin pot - dati per D3\n",
    "Questo notebook serve a convertire i dati per i 3 grafici in un formato agevole per il rendering delle mappe nel browser utilizzando D3. \n",
    "## Grafico 1\n",
    "Carico i dati in `map1Data_ultracompact.json`, una lista in cui ogni riga contiene tutti i dati relativi ad un determinato anno e nil."
   ]
  },
  {
   "cell_type": "code",
   "execution_count": 1,
   "metadata": {},
   "outputs": [],
   "source": [
    "import json\n",
    "\n",
    "dirPath = '/Users/tommaso/Projects/sod2019/-milano-melting-pot/dati/'\n",
    "with open(dirPath + 'map1Data_ultracompact.json') as datafile:\n",
    "    map1Data = json.load(datafile) \n",
    "print(len(map1Data))"
   ]
  },
  {
   "cell_type": "markdown",
   "metadata": {},
   "source": [
    "Il numero di righe è esattamente il doppio di quello che dovrebbe essere: 20 anni * 88 Nil dovrebbero dare 1760 righe. Continuo assumendo che i dati siano semplicemente duplicati, e che ci sia due volte lo stesso dato per un determinato Anno e IdNil.\n",
    "\n",
    "Creo un oggetto che ha come chiavi gli anni presenti nel dataset. Ognuno dei valori è a sua volta un oggetto, che ha come chiavi le varie regioni di origine. I rispettivi valori sono liste di datapoints che contengono solo Nil e numero di residenti. \n",
    "\n"
   ]
  },
  {
   "cell_type": "code",
   "execution_count": 2,
   "metadata": {},
   "outputs": [],
   "source": [
    "import itertools\n",
    "from operator import itemgetter\n",
    "\n",
    "map1Data = sorted(map1Data, key=itemgetter('Anno'))\n",
    "map1DataD3 = {}\n",
    "\n",
    "for year, iterator in itertools.groupby(map1Data, key=itemgetter('Anno')):\n",
    "    if year not in map1DataD3:\n",
    "        map1DataD3[year] = {}\n",
    "    dataPoints = list(iterator)\n",
    "    for row in dataPoints:\n",
    "        for key, value in row.items():\n",
    "            if key not in ['IdNil', 'Anno']:\n",
    "                idNil = row['IdNil']\n",
    "                if key not in map1DataD3[year]:\n",
    "                    map1DataD3[year][key] = []\n",
    "                dot = {'IdNil': idNil, 'Pop': value }\n",
    "                # evito di inserire dati duplicati\n",
    "                iter = (item for item in map1DataD3[year][key] if item['IdNil'] == idNil)\n",
    "                if next(iter, None) is None:\n",
    "                    map1DataD3[year][key].append(dot)  "
   ]
  },
  {
   "cell_type": "markdown",
   "metadata": {},
   "source": [
    "Questo genere di struttura nidificata è utile per la rappresentazione in tempo reale, in quanto è possibile selezionare i dati relativi ad un grafico con facilità. La creazione delle mappe prevede infatti il rendering di una sequenza di mappe per una determinata regione di origine in un determinato anno."
   ]
  },
  {
   "cell_type": "code",
   "execution_count": 3,
   "metadata": {},
   "outputs": [
    {
     "name": "stdout",
     "output_type": "stream",
     "text": [
      "====================================================\n",
      "Elenca gli anni nel dataset\n",
      "====================================================\n",
      "dict_keys(['1999', '2000', '2001', '2002', '2003', '2004', '2005', '2006', '2007', '2008', '2009', '2010', '2011', '2012', '2013', '2014', '2015', '2016', '2017', '2018'])\n",
      "====================================================\n",
      "Elenca le chiavi presenti nel 2013\n",
      "====================================================\n",
      "dict_keys(['eastas', 'noraf', 'ssaf', 'seas', 'ita', 'southas', 'soam', 'eu15', 'westas', 'noram', 'eun13', 'otheu', 'ocean', 'other'])\n",
      "====================================================\n",
      "Dati per il Nord Africa nel 2013, divisi per Nil\n",
      "====================================================\n"
     ]
    },
    {
     "data": {
      "text/plain": [
       "[{'IdNil': '1', 'Pop': 59},\n",
       " {'IdNil': '2', 'Pop': 157},\n",
       " {'IdNil': '3', 'Pop': 0},\n",
       " {'IdNil': '4', 'Pop': 25},\n",
       " {'IdNil': '5', 'Pop': 255},\n",
       " {'IdNil': '6', 'Pop': 355},\n",
       " {'IdNil': '7', 'Pop': 46},\n",
       " {'IdNil': '8', 'Pop': 0},\n",
       " {'IdNil': '9', 'Pop': 44},\n",
       " {'IdNil': '10', 'Pop': 346},\n",
       " {'IdNil': '11', 'Pop': 764},\n",
       " {'IdNil': '12', 'Pop': 686},\n",
       " {'IdNil': '13', 'Pop': 502},\n",
       " {'IdNil': '14', 'Pop': 1133},\n",
       " {'IdNil': '15', 'Pop': 259},\n",
       " {'IdNil': '16', 'Pop': 811},\n",
       " {'IdNil': '17', 'Pop': 486},\n",
       " {'IdNil': '18', 'Pop': 427},\n",
       " {'IdNil': '19', 'Pop': 2549},\n",
       " {'IdNil': '20', 'Pop': 3498},\n",
       " {'IdNil': '21', 'Pop': 734},\n",
       " {'IdNil': '22', 'Pop': 620},\n",
       " {'IdNil': '23', 'Pop': 402},\n",
       " {'IdNil': '24', 'Pop': 87},\n",
       " {'IdNil': '25', 'Pop': 231},\n",
       " {'IdNil': '26', 'Pop': 275},\n",
       " {'IdNil': '27', 'Pop': 176},\n",
       " {'IdNil': '28', 'Pop': 1034},\n",
       " {'IdNil': '29', 'Pop': 522},\n",
       " {'IdNil': '30', 'Pop': 476},\n",
       " {'IdNil': '31', 'Pop': 476},\n",
       " {'IdNil': '32', 'Pop': 321},\n",
       " {'IdNil': '33', 'Pop': 324},\n",
       " {'IdNil': '34', 'Pop': 24},\n",
       " {'IdNil': '35', 'Pop': 2252},\n",
       " {'IdNil': '36', 'Pop': 1087},\n",
       " {'IdNil': '37', 'Pop': 224},\n",
       " {'IdNil': '38', 'Pop': 228},\n",
       " {'IdNil': '39', 'Pop': 44},\n",
       " {'IdNil': '40', 'Pop': 47},\n",
       " {'IdNil': '41', 'Pop': 738},\n",
       " {'IdNil': '42', 'Pop': 1270},\n",
       " {'IdNil': '43', 'Pop': 497},\n",
       " {'IdNil': '44', 'Pop': 421},\n",
       " {'IdNil': '45', 'Pop': 692},\n",
       " {'IdNil': '46', 'Pop': 839},\n",
       " {'IdNil': '47', 'Pop': 18},\n",
       " {'IdNil': '48', 'Pop': 480},\n",
       " {'IdNil': '49', 'Pop': 2400},\n",
       " {'IdNil': '50', 'Pop': 124},\n",
       " {'IdNil': '51', 'Pop': 114},\n",
       " {'IdNil': '52', 'Pop': 738},\n",
       " {'IdNil': '53', 'Pop': 520},\n",
       " {'IdNil': '54', 'Pop': 36},\n",
       " {'IdNil': '55', 'Pop': 896},\n",
       " {'IdNil': '56', 'Pop': 785},\n",
       " {'IdNil': '57', 'Pop': 3642},\n",
       " {'IdNil': '58', 'Pop': 120},\n",
       " {'IdNil': '59', 'Pop': 1},\n",
       " {'IdNil': '60', 'Pop': 222},\n",
       " {'IdNil': '61', 'Pop': 220},\n",
       " {'IdNil': '62', 'Pop': 112},\n",
       " {'IdNil': '63', 'Pop': 54},\n",
       " {'IdNil': '64', 'Pop': 27},\n",
       " {'IdNil': '65', 'Pop': 390},\n",
       " {'IdNil': '66', 'Pop': 39},\n",
       " {'IdNil': '67', 'Pop': 35},\n",
       " {'IdNil': '68', 'Pop': 23},\n",
       " {'IdNil': '69', 'Pop': 210},\n",
       " {'IdNil': '70', 'Pop': 347},\n",
       " {'IdNil': '71', 'Pop': 2358},\n",
       " {'IdNil': '72', 'Pop': 134},\n",
       " {'IdNil': '73', 'Pop': 21},\n",
       " {'IdNil': '74', 'Pop': 2},\n",
       " {'IdNil': '75', 'Pop': 0},\n",
       " {'IdNil': '76', 'Pop': 1523},\n",
       " {'IdNil': '77', 'Pop': 1377},\n",
       " {'IdNil': '78', 'Pop': 418},\n",
       " {'IdNil': '79', 'Pop': 1961},\n",
       " {'IdNil': '80', 'Pop': 1323},\n",
       " {'IdNil': '81', 'Pop': 207},\n",
       " {'IdNil': '82', 'Pop': 477},\n",
       " {'IdNil': '83', 'Pop': 536},\n",
       " {'IdNil': '84', 'Pop': 8},\n",
       " {'IdNil': '85', 'Pop': 10},\n",
       " {'IdNil': '86', 'Pop': 4},\n",
       " {'IdNil': '87', 'Pop': 0},\n",
       " {'IdNil': '88', 'Pop': 10}]"
      ]
     },
     "execution_count": 3,
     "metadata": {},
     "output_type": "execute_result"
    }
   ],
   "source": [
    "print('====================================================')\n",
    "print('Elenca gli anni nel dataset')\n",
    "print('====================================================')\n",
    "print(map1DataD3.keys()                )\n",
    "print('====================================================')\n",
    "print('Elenca le chiavi presenti nel 2013')\n",
    "print('====================================================')\n",
    "print(map1DataD3['2013'].keys())\n",
    "print('====================================================')\n",
    "print('Dati per il Nord Africa nel 2013, divisi per Nil')\n",
    "print('====================================================')\n",
    "map1DataD3['2013']['noraf']"
   ]
  },
  {
   "cell_type": "markdown",
   "metadata": {},
   "source": [
    "Salvo i dati in un file json."
   ]
  },
  {
   "cell_type": "code",
   "execution_count": 4,
   "metadata": {},
   "outputs": [
    {
     "name": "stdout",
     "output_type": "stream",
     "text": [
      "Salvato\n"
     ]
    }
   ],
   "source": [
    "import json\n",
    "with open (dirPath + 'map1Data_d3.json', 'w') as outfile:\n",
    "    json.dump(map1DataD3, outfile)\n",
    "print('Salvato')"
   ]
  }
 ],
 "metadata": {
  "kernelspec": {
   "display_name": "Python 3",
   "language": "python",
   "name": "python3"
  },
  "language_info": {
   "codemirror_mode": {
    "name": "ipython",
    "version": 3
   },
   "file_extension": ".py",
   "mimetype": "text/x-python",
   "name": "python",
   "nbconvert_exporter": "python",
   "pygments_lexer": "ipython3",
   "version": "3.7.3"
  }
 },
 "nbformat": 4,
 "nbformat_minor": 2
}
